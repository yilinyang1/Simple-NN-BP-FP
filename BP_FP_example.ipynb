{
 "cells": [
  {
   "cell_type": "code",
   "execution_count": 1,
   "metadata": {},
   "outputs": [],
   "source": [
    "from ase.build import fcc111\n",
    "from time import time\n",
    "from utils.fp_calculator import set_sym, calculate_fp\n",
    "import numpy as np"
   ]
  },
  {
   "cell_type": "code",
   "execution_count": 2,
   "metadata": {},
   "outputs": [],
   "source": [
    "# set up random AuPd slab\n",
    "atoms = fcc111('Au', size=(10, 10, 10), a=4.1, vacuum=10.0)\n",
    "for i in set(np.random.randint(0, len(atoms), size=500)):\n",
    "    atoms[i].symbol = 'Pd' "
   ]
  },
  {
   "cell_type": "code",
   "execution_count": 3,
   "metadata": {},
   "outputs": [],
   "source": [
    "# set up BP symm func parameters\n",
    "elements = ['Pd', 'Au']\n",
    "Gs = [2, 4]\n",
    "cutoff = 6.0\n",
    "g2_etas = [0.05, 4.0, 20.0, 80.0]\n",
    "g2_Rses = [0.0]\n",
    "g4_etas = [0.005]\n",
    "g4_zetas = [1.0, 4.0]\n",
    "g4_lambdas = [-1.0, 1.0]\n",
    "\n",
    "params_set = set_sym(elements, Gs, cutoff, g2_etas=g2_etas, g2_Rses=g2_Rses, \n",
    "                     g4_etas=g4_etas, g4_zetas=g4_zetas, g4_lambdas=g4_lambdas)"
   ]
  },
  {
   "cell_type": "code",
   "execution_count": 4,
   "metadata": {
    "scrolled": false
   },
   "outputs": [
    {
     "name": "stdout",
     "output_type": "stream",
     "text": [
      "1.5900061130523682\n"
     ]
    }
   ],
   "source": [
    "# calculate BP FP\n",
    "t1 = time()\n",
    "fp_data = calculate_fp(atoms, elements, params_set, is_mpi=False)\n",
    "t2 = time()\n",
    "print(t2 - t1)"
   ]
  },
  {
   "cell_type": "code",
   "execution_count": 5,
   "metadata": {
    "scrolled": false
   },
   "outputs": [
    {
     "data": {
      "text/plain": [
       "(1000, 20)"
      ]
     },
     "execution_count": 5,
     "metadata": {},
     "output_type": "execute_result"
    }
   ],
   "source": [
    "fp_data['x'].shape"
   ]
  },
  {
   "cell_type": "code",
   "execution_count": 6,
   "metadata": {},
   "outputs": [
    {
     "data": {
      "text/plain": [
       "(1000, 20, 1000, 3)"
      ]
     },
     "execution_count": 6,
     "metadata": {},
     "output_type": "execute_result"
    }
   ],
   "source": [
    "fp_data['dx'].shape"
   ]
  },
  {
   "cell_type": "code",
   "execution_count": null,
   "metadata": {},
   "outputs": [],
   "source": []
  }
 ],
 "metadata": {
  "kernelspec": {
   "display_name": "Python 3",
   "language": "python",
   "name": "python3"
  },
  "language_info": {
   "codemirror_mode": {
    "name": "ipython",
    "version": 3
   },
   "file_extension": ".py",
   "mimetype": "text/x-python",
   "name": "python",
   "nbconvert_exporter": "python",
   "pygments_lexer": "ipython3",
   "version": "3.6.8"
  }
 },
 "nbformat": 4,
 "nbformat_minor": 2
}