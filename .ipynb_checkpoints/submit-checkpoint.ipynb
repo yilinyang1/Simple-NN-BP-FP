{
 "cells": [
  {
   "cell_type": "markdown",
   "metadata": {},
   "source": [
    "## Submit Bulk MCs"
   ]
  },
  {
   "cell_type": "code",
   "execution_count": 2,
   "metadata": {},
   "outputs": [],
   "source": [
    "import sys\n",
    "import numpy as np\n",
    "import os"
   ]
  },
  {
   "cell_type": "markdown",
   "metadata": {},
   "source": [
    "## submit"
   ]
  },
  {
   "cell_type": "code",
   "execution_count": 291,
   "metadata": {},
   "outputs": [
    {
     "data": {
      "text/plain": [
       "0"
      ]
     },
     "execution_count": 291,
     "metadata": {},
     "output_type": "execute_result"
    }
   ],
   "source": [
    "job_file = \"./python-launch.sh\"\n",
    "\n",
    "# f = \"MPI4PY_temp\"\n",
    "f = \"fp_speed_test\"\n",
    "n_cores = 3\n",
    "\n",
    "with open(job_file, 'w') as fl:\n",
    "    fl.writelines(\"#!/bin/bash\\n\")\n",
    "    fl.writelines(f\"#SBATCH -J mpi-test # Job name\\n\")\n",
    "    fl.writelines(f\"#SBATCH -n {n_cores} # Number of total cores\\n\")\n",
    "    fl.writelines(\"#SBATCH -N 1 # Number of nodes\\n\")\n",
    "    fl.writelines(\"#SBATCH -A kitchin\\n\")\n",
    "    fl.writelines(\"#SBATCH -p cpu\\n\")\n",
    "    fl.writelines(\"#SBATCH --mem-per-cpu=2048 # Memory pool for all cores in MB\\n\")\n",
    "    fl.writelines(f\"#SBATCH -e ./mpi-test.err\\n\")\n",
    "    fl.writelines(f\"#SBATCH -o ./mpi-test.out\\n\")\n",
    "    fl.writelines(f\"mpirun -n {n_cores} python {f}.py \\n\")\n",
    "\n",
    "os.system(f\"sbatch {job_file}\")"
   ]
  },
  {
   "cell_type": "markdown",
   "metadata": {},
   "source": [
    "## Commands"
   ]
  },
  {
   "cell_type": "code",
   "execution_count": 292,
   "metadata": {},
   "outputs": [
    {
     "name": "stdout",
     "output_type": "stream",
     "text": [
      "             JOBID PARTITION     NAME     USER ST       TIME  NODES NODELIST(REASON)\r\n",
      "           2095496       cpu surf_sem yilinyan  R   11:14:57      1 d009\r\n",
      "           2095497       cpu surf_sem yilinyan  R   11:14:57      1 f015\r\n",
      "           2095498       cpu surf_sem yilinyan  R   11:14:57      1 f015\r\n",
      "           2095499       cpu surf_sem yilinyan  R   11:14:57      1 f015\r\n",
      "           2095491       cpu surf_sem yilinyan  R   11:15:00      1 d009\r\n",
      "           2095492       cpu surf_sem yilinyan  R   11:15:00      1 d009\r\n",
      "           2095493       cpu surf_sem yilinyan  R   11:15:00      1 d009\r\n",
      "           2095494       cpu surf_sem yilinyan  R   11:15:00      1 d009\r\n",
      "           2095495       cpu surf_sem yilinyan  R   11:15:00      1 d009\r\n",
      "           2095471       cpu slab_sem yilinyan  R   11:25:23      1 d017\r\n",
      "           2095472       cpu slab_sem yilinyan  R   11:25:23      1 d017\r\n",
      "           2095473       cpu slab_sem yilinyan  R   11:25:23      1 d023\r\n",
      "           2095474       cpu slab_sem yilinyan  R   11:25:23      1 d023\r\n",
      "           2095475       cpu slab_sem yilinyan  R   11:25:23      1 d023\r\n",
      "           2095476       cpu slab_sem yilinyan  R   11:25:23      1 d023\r\n",
      "           2095477       cpu slab_sem yilinyan  R   11:25:23      1 f012\r\n",
      "           2095478       cpu slab_sem yilinyan  R   11:25:23      1 f012\r\n",
      "           2095479       cpu slab_sem yilinyan  R   11:25:23      1 f012\r\n",
      "           2095480       cpu slab_sem yilinyan  R   11:25:23      1 f012\r\n",
      "           2095481       cpu slab_sem yilinyan  R   11:25:23      1 d004\r\n",
      "           2095482       cpu slab_sem yilinyan  R   11:25:23      1 d004\r\n",
      "           2095483       cpu slab_sem yilinyan  R   11:25:23      1 d004\r\n",
      "           2095484       cpu slab_sem yilinyan  R   11:25:23      1 d004\r\n",
      "           2095485       cpu slab_sem yilinyan  R   11:25:23      1 d004\r\n",
      "           2095486       cpu slab_sem yilinyan  R   11:25:23      1 d039\r\n",
      "           2095487       cpu slab_sem yilinyan  R   11:25:23      1 d039\r\n",
      "           2095488       cpu slab_sem yilinyan  R   11:25:23      1 d039\r\n",
      "           2095489       cpu slab_sem yilinyan  R   11:25:23      1 d039\r\n",
      "           2095490       cpu slab_sem yilinyan  R   11:25:23      1 d039\r\n",
      "           2095470       cpu slab_sem yilinyan  R   11:25:26      1 d017\r\n",
      "           2095461       cpu normal-v yilinyan  R   11:29:48      1 d012\r\n",
      "           2095462       cpu normal-v yilinyan  R   11:29:48      1 d012\r\n",
      "           2095463       cpu normal-v yilinyan  R   11:29:48      1 d012\r\n",
      "           2095464       cpu normal-v yilinyan  R   11:29:48      1 d012\r\n",
      "           2095465       cpu normal-v yilinyan  R   11:29:48      1 d015\r\n",
      "           2095466       cpu normal-v yilinyan  R   11:29:48      1 d015\r\n",
      "           2095467       cpu normal-v yilinyan  R   11:29:48      1 d015\r\n",
      "           2095468       cpu normal-v yilinyan  R   11:29:48      1 d015\r\n",
      "           2095469       cpu normal-v yilinyan  R   11:29:48      1 d017\r\n"
     ]
    }
   ],
   "source": [
    "!squeue -u yilinyang"
   ]
  },
  {
   "cell_type": "code",
   "execution_count": 252,
   "metadata": {},
   "outputs": [],
   "source": [
    "!scancel 2095808"
   ]
  },
  {
   "cell_type": "code",
   "execution_count": 12,
   "metadata": {},
   "outputs": [],
   "source": [
    "!rm errs/*\n",
    "!rm outs/*"
   ]
  }
 ],
 "metadata": {
  "kernelspec": {
   "display_name": "Python 3",
   "language": "python",
   "name": "python3"
  },
  "language_info": {
   "codemirror_mode": {
    "name": "ipython",
    "version": 3
   },
   "file_extension": ".py",
   "mimetype": "text/x-python",
   "name": "python",
   "nbconvert_exporter": "python",
   "pygments_lexer": "ipython3",
   "version": "3.6.9"
  }
 },
 "nbformat": 4,
 "nbformat_minor": 4
}
